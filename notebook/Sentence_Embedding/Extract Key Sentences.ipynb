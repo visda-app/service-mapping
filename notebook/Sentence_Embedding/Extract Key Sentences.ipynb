{
 "cells": [
  {
   "cell_type": "code",
   "execution_count": 5,
   "metadata": {},
   "outputs": [
    {
     "name": "stderr",
     "output_type": "stream",
     "text": [
      "[nltk_data] Downloading package punkt to /root/nltk_data...\n",
      "[nltk_data]   Unzipping tokenizers/punkt.zip.\n"
     ]
    },
    {
     "data": {
      "text/plain": [
       "True"
      ]
     },
     "execution_count": 5,
     "metadata": {},
     "output_type": "execute_result"
    }
   ],
   "source": [
    "import nltk\n",
    "nltk.download('punkt')"
   ]
  },
  {
   "cell_type": "code",
   "execution_count": 6,
   "metadata": {},
   "outputs": [],
   "source": [
    " text = \"\"\"\n",
    "  Success is dependent on the actions or steps you take to achieve it. Show me a man or woman who doesn't have an investment, and i will tell you how soon he will go broke. Investment is building a safe heaven for the future. With the right choice of Investment that has at least 1% minimum risk and with an expert guidance, profit and Intrest is 100% guaranteed. \n",
    "   It's a blessing to have the founder of the world's largest hedge fund dedicate so much of his time trying to educate and help people. Ray Dalio has been, and will always be a model and a source of inspiration for me throughout my life. \n",
    "    One simple decision made my financial life secure especially provident since my wife had MS. When the prices of these stocks goes down, it is simply a drought that ultimately recovers...again with time. It is a long term investment vehicle. I buy parcels of $1K at a time; and the good news about index trackers is that they rebalance to include the ASX200 or similar. I like the franking credits on the dividends. Even better, my shares do not send me bills every quarter, or pain the arse tenants like real estate does. The only paper asset I like. It will be interesting to see if people do divert away from stocks to cash and bonds when interest rates go up some more. Problem is that those latter vehicles will not beat inflation, although there is nothing wrong with having a bit of cash in the bank either. \n",
    " \"\"\""
   ]
  },
  {
   "cell_type": "code",
   "execution_count": 8,
   "metadata": {},
   "outputs": [
    {
     "data": {
      "text/plain": [
       "['\\n Success is dependent on the actions or steps you take to achieve it.',\n",
       " \"Show me a man or woman who doesn't have an investment, and i will tell you how soon he will go broke.\",\n",
       " 'Investment is building a safe heaven for the future.',\n",
       " 'With the right choice of Investment that has at least 1% minimum risk and with an expert guidance, profit and Intrest is 100% guaranteed.',\n",
       " \"It's a blessing to have the founder of the world's largest hedge fund dedicate so much of his time trying to educate and help people.\",\n",
       " 'Ray Dalio has been, and will always be a model and a source of inspiration for me throughout my life.',\n",
       " 'One simple decision made my financial life secure especially provident since my wife had MS.',\n",
       " 'When the prices of these stocks goes down, it is simply a drought that ultimately recovers...again with time.',\n",
       " 'It is a long term investment vehicle.',\n",
       " 'I buy parcels of $1K at a time; and the good news about index trackers is that they rebalance to include the ASX200 or similar.',\n",
       " 'I like the franking credits on the dividends.',\n",
       " 'Even better, my shares do not send me bills every quarter, or pain the arse tenants like real estate does.',\n",
       " 'The only paper asset I like.',\n",
       " 'It will be interesting to see if people do divert away from stocks to cash and bonds when interest rates go up some more.',\n",
       " 'Problem is that those latter vehicles will not beat inflation, although there is nothing wrong with having a bit of cash in the bank either.']"
      ]
     },
     "execution_count": 8,
     "metadata": {},
     "output_type": "execute_result"
    }
   ],
   "source": [
    "sent_text = nltk.sent_tokenize(text)\n",
    "sent_text"
   ]
  },
  {
   "cell_type": "code",
   "execution_count": null,
   "metadata": {},
   "outputs": [],
   "source": []
  }
 ],
 "metadata": {
  "kernelspec": {
   "display_name": "Python 3",
   "language": "python",
   "name": "python3"
  },
  "language_info": {
   "codemirror_mode": {
    "name": "ipython",
    "version": 3
   },
   "file_extension": ".py",
   "mimetype": "text/x-python",
   "name": "python",
   "nbconvert_exporter": "python",
   "pygments_lexer": "ipython3",
   "version": "3.8.10"
  }
 },
 "nbformat": 4,
 "nbformat_minor": 4
}
